{
 "cells": [
  {
   "cell_type": "markdown",
   "metadata": {
    "toc": true
   },
   "source": [
    "<h1>Содержание<span class=\"tocSkip\"></span></h1><br><div class=\"toc\"><ul class=\"toc-item\"><li><span><a data-toc-modified-id=\"Описание-проекта-1\"><span class=\"toc-item-num\">1&nbsp;&nbsp;</span>Описание проекта</a></span></li><ul class=\"toc-item\"><li><span><a data-toc-modified-id=\"Описание-проекта-1.1\"><span class=\"toc-item-num\">1.1&nbsp;&nbsp;</span>Описание проекта</a></span></li><li><span><a data-toc-modified-id=\"Описание-данных-1.2\"><span class=\"toc-item-num\">1.2&nbsp;&nbsp;</span>Описание данных</a></span></li><li><span><a data-toc-modified-id=\"Цель-работы-1.3\"><span class=\"toc-item-num\">1.3&nbsp;&nbsp;</span>План работы</a></span></li></ul></li><li><span><a data-toc-modified-id=\"Предобработка-данных-2\"><span class=\"toc-item-num\">2&nbsp;&nbsp;</span>Загрузка данных</a></span></li><li><span><a data-toc-modified-id=\"Предобработка-данных-2\"><span class=\"toc-item-num\">3&nbsp;&nbsp;</span>Предобработка данных</a></span></li><li><span><a data-toc-modified-id=\"Предобработка-данных-2\"><span class=\"toc-item-num\">4&nbsp;&nbsp;</span>Изучение признаков</a></span></li><li><span><a data-toc-modified-id=\"Исследовательский-анализ-3\"><span class=\"toc-item-num\">5&nbsp;&nbsp;</span>Разработка алгоритма матричного шифрования данных</a></span><ul class=\"toc-item\"><li><span><a data-toc-modified-id=\"Зависимость-возврата-кредита-от-количества-детей-3.1\"><span class=\"toc-item-num\">5.1&nbsp;&nbsp;</span>Модель линейной регрессии изнутри</a></span></li><li><span><a data-toc-modified-id=\"Зависимость-возврата-кредита-от-семейного-положения-3.2\"><span class=\"toc-item-num\">5.2&nbsp;&nbsp;</span>Умножение матриц</a></span></li></ul><li><span><a data-toc-modified-id=\"Исследовательский-анализ-3\"><span class=\"toc-item-num\">6&nbsp;&nbsp;</span>Проверка алгоритма шифрования данных</a></span><ul class=\"toc-item\"><li><span><a data-toc-modified-id=\"Зависимость-возврата-кредита-от-количества-детей-3.1\"><span class=\"toc-item-num\">6.1&nbsp;&nbsp;</span>Разделение датасета на признаки и цели</a></span></li><li><span><a data-toc-modified-id=\"Зависимость-возврата-кредита-от-семейного-положения-3.2\"><span class=\"toc-item-num\">6.2&nbsp;&nbsp;</span>Cоздание зашифрованной матрицы</a></span></li><li><span><a data-toc-modified-id=\"Зависимость-возврата-кредита-о-уровня-дохода-3.3\"><span class=\"toc-item-num\">6.3&nbsp;&nbsp;</span>Cоздание модели обучения \"Линейная Регрессия\"</a></span></li><li><span><a data-toc-modified-id=\"Зависимость-возврата-кредита-о-уровня-дохода-3.3\"><span class=\"toc-item-num\">6.4&nbsp;&nbsp;</span>Обучение модели на матрицах признака</a></span></li><li><span><a data-toc-modified-id=\"Зависимость-возврата-кредита-о-уровня-дохода-3.3\"><span class=\"toc-item-num\">6.5&nbsp;&nbsp;</span>Проверка предсказаний по модели LinearRegression библиотеки sklearn</a></span></li><li><span><a data-toc-modified-id=\"Зависимость-возврата-кредита-о-уровня-дохода-3.3\"><span class=\"toc-item-num\">6.6&nbsp;&nbsp;</span>Проверка возможности восстановления первоначальных данных после шифрования.</a></span></li></ul><ul class=\"toc-item\"></ul><li><span><a data-toc-modified-id=\"Общий-вывод-4\"><span class=\"toc-item-num\">7&nbsp;&nbsp;</span>Отчет по проекту</a></span></li></ul></div>"
   ]
  },
  {
   "cell_type": "markdown",
   "metadata": {},
   "source": [
    "## Защита персональных данных клиентов\n",
    "\n",
    "Разработка метода шифрования данных, чтобы по ним было сложно восстановить персональную информацию."
   ]
  },
  {
   "cell_type": "markdown",
   "metadata": {},
   "source": [
    "### 1.1. Описание проекта"
   ]
  },
  {
   "cell_type": "markdown",
   "metadata": {},
   "source": [
    "Закачик проекта - отдел информационной безопасности страховой компании.<br> \n",
    "Необходимо максимально защитить данные клиентов страховой компании и разработать такой метод преобразования данных, чтобы по ним сложно было восстановить персональную информацию и при этом качество моделей машинного обучения при преобразовании  не ухудшилось. "
   ]
  },
  {
   "cell_type": "markdown",
   "metadata": {},
   "source": [
    "### 1.2. Описание данных"
   ]
  },
  {
   "cell_type": "markdown",
   "metadata": {},
   "source": [
    "Данные сохранены в датасет insurance и имеют следующую структуру:\n",
    "<br>\n",
    " - возраст клиента в годах;<br>\n",
    " - пол клиента;<br>\n",
    " - ежемесячный доход;<br>\n",
    " - состав семьи;<br>\n",
    " - страховые выплаты.<br>"
   ]
  },
  {
   "cell_type": "markdown",
   "metadata": {},
   "source": [
    "### 1.3. План работы"
   ]
  },
  {
   "cell_type": "markdown",
   "metadata": {},
   "source": [
    "Наша цель — запрограммировать алгоритм машинного обучения, применив матричные операции. А затем проверить качество и отличия преобразования данных до и после, обосновав корректность работы модели."
   ]
  },
  {
   "cell_type": "markdown",
   "metadata": {},
   "source": [
    "Для этого требуется:\n",
    " - Загрузить и подготовить данные;<br>\n",
    " - Обработать аномалии и пропуски, если есть и исследовать данные;<br>\n",
    " - Разработать алгоритм матричного шифрования данных;<br>\n",
    " - Провести процедуру разделения исследуемого датасета insurance на две таблицы признаков и целей;<br>\n",
    " - Создать случайную матрицу с размерностью, соответствующей количеству столбцов (признаков в выборке);<br>\n",
    " - Умножить полученную матрицу P на исходную матрицу признаков X, чтобы получить новую матрицу признаков X_p;<br>\n",
    " - Обучить модели на изначальной и новой выборках;<br> \n",
    " - Сравнить показатели метрики R2 - коэффициента детерминации, используемой для оценки производительности модели линейной регрессии;<br>\n",
    " - Проверить возможность восстановления первоначальных данных после шифрования.<br> "
   ]
  },
  {
   "cell_type": "markdown",
   "metadata": {},
   "source": [
    "## 2. Загрузка данных"
   ]
  },
  {
   "cell_type": "markdown",
   "metadata": {},
   "source": [
    "Импорт библиотеки"
   ]
  },
  {
   "cell_type": "code",
   "execution_count": 1,
   "metadata": {},
   "outputs": [],
   "source": [
    "import pandas as pd\n",
    "import numpy as np\n",
    "import seaborn as sns\n",
    "import matplotlib.pyplot as plt\n",
    "import warnings\n",
    "import re\n",
    "import time\n",
    "from numpy.linalg import inv\n",
    "from sklearn.datasets import make_spd_matrix\n",
    "from sklearn.linear_model import LinearRegression\n",
    "from sklearn.metrics import r2_score"
   ]
  },
  {
   "cell_type": "markdown",
   "metadata": {},
   "source": [
    "Откроем файл и изучаем его"
   ]
  },
  {
   "cell_type": "code",
   "execution_count": 2,
   "metadata": {},
   "outputs": [],
   "source": [
    "# чтение файла\n",
    "try:\n",
    "    df = pd.read_csv('/datasets/insurance.csv')\n",
    "except:\n",
    "    df = pd.read_csv('C:/Users/1/Documents/Sprint_15/datasets/insurance.csv')"
   ]
  },
  {
   "cell_type": "code",
   "execution_count": 3,
   "metadata": {},
   "outputs": [],
   "source": [
    "# Функция чтения датасета\n",
    "def get_data_info(data):\n",
    "    display(data.sample(5))\n",
    "    display(data.info())"
   ]
  },
  {
   "cell_type": "code",
   "execution_count": 4,
   "metadata": {},
   "outputs": [
    {
     "data": {
      "text/html": [
       "<div>\n",
       "<style scoped>\n",
       "    .dataframe tbody tr th:only-of-type {\n",
       "        vertical-align: middle;\n",
       "    }\n",
       "\n",
       "    .dataframe tbody tr th {\n",
       "        vertical-align: top;\n",
       "    }\n",
       "\n",
       "    .dataframe thead th {\n",
       "        text-align: right;\n",
       "    }\n",
       "</style>\n",
       "<table border=\"1\" class=\"dataframe\">\n",
       "  <thead>\n",
       "    <tr style=\"text-align: right;\">\n",
       "      <th></th>\n",
       "      <th>Пол</th>\n",
       "      <th>Возраст</th>\n",
       "      <th>Зарплата</th>\n",
       "      <th>Члены семьи</th>\n",
       "      <th>Страховые выплаты</th>\n",
       "    </tr>\n",
       "  </thead>\n",
       "  <tbody>\n",
       "    <tr>\n",
       "      <th>3633</th>\n",
       "      <td>1</td>\n",
       "      <td>30.0</td>\n",
       "      <td>52300.0</td>\n",
       "      <td>0</td>\n",
       "      <td>0</td>\n",
       "    </tr>\n",
       "    <tr>\n",
       "      <th>4908</th>\n",
       "      <td>1</td>\n",
       "      <td>40.0</td>\n",
       "      <td>33200.0</td>\n",
       "      <td>1</td>\n",
       "      <td>0</td>\n",
       "    </tr>\n",
       "    <tr>\n",
       "      <th>1562</th>\n",
       "      <td>1</td>\n",
       "      <td>31.0</td>\n",
       "      <td>54700.0</td>\n",
       "      <td>0</td>\n",
       "      <td>0</td>\n",
       "    </tr>\n",
       "    <tr>\n",
       "      <th>1049</th>\n",
       "      <td>1</td>\n",
       "      <td>23.0</td>\n",
       "      <td>33100.0</td>\n",
       "      <td>1</td>\n",
       "      <td>0</td>\n",
       "    </tr>\n",
       "    <tr>\n",
       "      <th>3130</th>\n",
       "      <td>0</td>\n",
       "      <td>28.0</td>\n",
       "      <td>49100.0</td>\n",
       "      <td>1</td>\n",
       "      <td>0</td>\n",
       "    </tr>\n",
       "  </tbody>\n",
       "</table>\n",
       "</div>"
      ],
      "text/plain": [
       "      Пол  Возраст  Зарплата  Члены семьи  Страховые выплаты\n",
       "3633    1     30.0   52300.0            0                  0\n",
       "4908    1     40.0   33200.0            1                  0\n",
       "1562    1     31.0   54700.0            0                  0\n",
       "1049    1     23.0   33100.0            1                  0\n",
       "3130    0     28.0   49100.0            1                  0"
      ]
     },
     "metadata": {},
     "output_type": "display_data"
    },
    {
     "name": "stdout",
     "output_type": "stream",
     "text": [
      "<class 'pandas.core.frame.DataFrame'>\n",
      "RangeIndex: 5000 entries, 0 to 4999\n",
      "Data columns (total 5 columns):\n",
      " #   Column             Non-Null Count  Dtype  \n",
      "---  ------             --------------  -----  \n",
      " 0   Пол                5000 non-null   int64  \n",
      " 1   Возраст            5000 non-null   float64\n",
      " 2   Зарплата           5000 non-null   float64\n",
      " 3   Члены семьи        5000 non-null   int64  \n",
      " 4   Страховые выплаты  5000 non-null   int64  \n",
      "dtypes: float64(2), int64(3)\n",
      "memory usage: 195.4 KB\n"
     ]
    },
    {
     "data": {
      "text/plain": [
       "None"
      ]
     },
     "metadata": {},
     "output_type": "display_data"
    }
   ],
   "source": [
    "get_data_info(df)"
   ]
  },
  {
   "cell_type": "markdown",
   "metadata": {},
   "source": [
    "## 2. Загрузка данных"
   ]
  },
  {
   "cell_type": "markdown",
   "metadata": {},
   "source": [
    "Столбцы \"Возраст\" и \"Зарплата\" всё же дожны быть целочисленными. Приведём их к целочисленному формату, потому что значения этих столбцов не могут быть дробными."
   ]
  },
  {
   "cell_type": "code",
   "execution_count": 5,
   "metadata": {},
   "outputs": [],
   "source": [
    "df['Возраст'] = df['Возраст'].astype('int')\n",
    "df['Зарплата'] = df['Зарплата'].astype('int')"
   ]
  },
  {
   "cell_type": "markdown",
   "metadata": {},
   "source": [
    "Проверка пропущенных данных в датасете"
   ]
  },
  {
   "cell_type": "code",
   "execution_count": 6,
   "metadata": {},
   "outputs": [],
   "source": [
    "# Функция вычисления пропущенных значений в колонках датасета\n",
    "def missing_values_table(df):\n",
    "        # Общее количество пропусков\n",
    "        mis_val = df.isnull().sum()\n",
    "        \n",
    "        # Доля пропущенных значений\n",
    "        mis_val_percent = 100 * df.isnull().sum() / len(df)\n",
    "        \n",
    "        # Создание таблицы с результатами\n",
    "        mis_val_table = pd.concat([mis_val, mis_val_percent], axis=1)\n",
    "        \n",
    "        # Переименование колонок\n",
    "        mis_val_table_ren_columns = mis_val_table.rename(\n",
    "        columns = {0 : 'Пропуски', 1 : 'Доля, %'})\n",
    "        \n",
    "        # Сортировка значений по доле пропусков\n",
    "        mis_val_table_ren_columns = mis_val_table_ren_columns[\n",
    "            mis_val_table_ren_columns.iloc[:,1] != 0].sort_values(\n",
    "        'Доля, %', ascending=False).round(1)\n",
    "        \n",
    "        # Печать общей информации\n",
    "        print (\"Выбранный датафрейм имеет \" + str(df.shape[1]) + \" столбцов.\\n\"      \n",
    "            \"Из них \" + str(mis_val_table_ren_columns.shape[0]) +\n",
    "              \" столбца имеют пропуски значений.\")\n",
    "        \n",
    "        # Return\n",
    "        return mis_val_table_ren_columns"
   ]
  },
  {
   "cell_type": "code",
   "execution_count": 7,
   "metadata": {},
   "outputs": [
    {
     "name": "stdout",
     "output_type": "stream",
     "text": [
      "Выбранный датафрейм имеет 5 столбцов.\n",
      "Из них 0 столбца имеют пропуски значений.\n"
     ]
    },
    {
     "data": {
      "text/html": [
       "<div>\n",
       "<style scoped>\n",
       "    .dataframe tbody tr th:only-of-type {\n",
       "        vertical-align: middle;\n",
       "    }\n",
       "\n",
       "    .dataframe tbody tr th {\n",
       "        vertical-align: top;\n",
       "    }\n",
       "\n",
       "    .dataframe thead th {\n",
       "        text-align: right;\n",
       "    }\n",
       "</style>\n",
       "<table border=\"1\" class=\"dataframe\">\n",
       "  <thead>\n",
       "    <tr style=\"text-align: right;\">\n",
       "      <th></th>\n",
       "      <th>Пропуски</th>\n",
       "      <th>Доля, %</th>\n",
       "    </tr>\n",
       "  </thead>\n",
       "  <tbody>\n",
       "  </tbody>\n",
       "</table>\n",
       "</div>"
      ],
      "text/plain": [
       "Empty DataFrame\n",
       "Columns: [Пропуски, Доля, %]\n",
       "Index: []"
      ]
     },
     "execution_count": 7,
     "metadata": {},
     "output_type": "execute_result"
    }
   ],
   "source": [
    "missing_values_table(df)"
   ]
  },
  {
   "cell_type": "markdown",
   "metadata": {},
   "source": [
    "Убедимся в отсутствии явных дубликатов в таблице df"
   ]
  },
  {
   "cell_type": "code",
   "execution_count": 8,
   "metadata": {},
   "outputs": [
    {
     "data": {
      "text/plain": [
       "153"
      ]
     },
     "execution_count": 8,
     "metadata": {},
     "output_type": "execute_result"
    }
   ],
   "source": [
    "df.duplicated().sum()"
   ]
  },
  {
   "cell_type": "markdown",
   "metadata": {},
   "source": [
    "Удалим явные дубликаты"
   ]
  },
  {
   "cell_type": "code",
   "execution_count": 9,
   "metadata": {},
   "outputs": [
    {
     "data": {
      "text/plain": [
       "0"
      ]
     },
     "execution_count": 9,
     "metadata": {},
     "output_type": "execute_result"
    }
   ],
   "source": [
    "df = df.drop_duplicates()\n",
    "df.duplicated().sum()"
   ]
  },
  {
   "cell_type": "markdown",
   "metadata": {},
   "source": [
    "## 4. Изучение признаков"
   ]
  },
  {
   "cell_type": "markdown",
   "metadata": {},
   "source": [
    "Поскольку задача проекта состоит в шифровании существующих данных, а не в поиске лучшей модели обучения для прогнозирования целевого признака, то этап изучения признаков на распределение данных ограничим простым исследованием."
   ]
  },
  {
   "cell_type": "code",
   "execution_count": 10,
   "metadata": {},
   "outputs": [],
   "source": [
    "# Функция визуализации данных для исследования признаков\n",
    "def grafik(col):\n",
    "    f, (ax1, ax2, ax3) = plt.subplots(1, 3, figsize=(20, 4))\n",
    "    title_col_box = 'Диаграмма \"ящик с усами\" ' + col\n",
    "    title_col_gist = 'Гистограмма данных ' + col\n",
    "    title_col_kde = 'Распределение данных ' + col    \n",
    "    sns.boxplot(x=col, data=df, color='red', ax=ax1).set(title=title_col_box)\n",
    "    histos = df[col].hist(bins=20, ax=ax2).set(title=title_col_gist, \n",
    "                            xlabel=\"Объем\", ylabel=col)\n",
    "    # Построим распределение значений на графике\n",
    "    sns.kdeplot(data=df[[col]], fill=True, ax=ax3)\n",
    "    plt.title(title_col_kde)\n",
    "    plt.xlabel(col)\n",
    "    plt.ylabel('Плотность')\n",
    "    print(df[col].describe())\n",
    "    return"
   ]
  },
  {
   "cell_type": "code",
   "execution_count": 11,
   "metadata": {},
   "outputs": [
    {
     "name": "stdout",
     "output_type": "stream",
     "text": [
      "count    4847.000000\n",
      "mean        0.498453\n",
      "std         0.500049\n",
      "min         0.000000\n",
      "25%         0.000000\n",
      "50%         0.000000\n",
      "75%         1.000000\n",
      "max         1.000000\n",
      "Name: Пол, dtype: float64\n"
     ]
    },
    {
     "data": {
      "image/png": "[encoded data removed]",
      "text/plain": [
       "<Figure size 2000x400 with 3 Axes>"
      ]
     },
     "metadata": {},
     "output_type": "display_data"
    }
   ],
   "source": [
    "grafik('Пол')"
   ]
  },
  {
   "cell_type": "markdown",
   "metadata": {},
   "source": [
    "Идеальное распределение клиентов. Половина мужского пола, половина женского."
   ]
  },
  {
   "cell_type": "code",
   "execution_count": 12,
   "metadata": {},
   "outputs": [
    {
     "name": "stdout",
     "output_type": "stream",
     "text": [
      "count    4847.000000\n",
      "mean       31.023932\n",
      "std         8.487995\n",
      "min        18.000000\n",
      "25%        24.000000\n",
      "50%        30.000000\n",
      "75%        37.000000\n",
      "max        65.000000\n",
      "Name: Возраст, dtype: float64\n"
     ]
    },
    {
     "data": {
      "image/png": "[encoded data removed]",
      "text/plain": [
       "<Figure size 2000x400 with 3 Axes>"
      ]
     },
     "metadata": {},
     "output_type": "display_data"
    }
   ],
   "source": [
    "grafik('Возраст')"
   ]
  },
  {
   "cell_type": "markdown",
   "metadata": {},
   "source": [
    "Распределение имеет положительной скошенность. Основная масса клиентов в возрасте от 20 до 40 лет. Самая трубоспособная часть населения."
   ]
  },
  {
   "cell_type": "code",
   "execution_count": 13,
   "metadata": {},
   "outputs": [
    {
     "name": "stdout",
     "output_type": "stream",
     "text": [
      "count     4847.000000\n",
      "mean     39895.811223\n",
      "std       9972.952441\n",
      "min       5300.000000\n",
      "25%      33200.000000\n",
      "50%      40200.000000\n",
      "75%      46600.000000\n",
      "max      79000.000000\n",
      "Name: Зарплата, dtype: float64\n"
     ]
    },
    {
     "data": {
      "image/png": "[encoded data removed]",
      "text/plain": [
       "<Figure size 2000x400 with 3 Axes>"
      ]
     },
     "metadata": {},
     "output_type": "display_data"
    }
   ],
   "source": [
    "grafik('Зарплата')"
   ]
  },
  {
   "cell_type": "markdown",
   "metadata": {},
   "source": [
    "Распределение зарплата имеет нормальное распределение, без скошенностей. Медиана зарплат лежит в районе 40 тыс.руб. Вот и среднестатический доход на душу населения энного города России."
   ]
  },
  {
   "cell_type": "code",
   "execution_count": 14,
   "metadata": {},
   "outputs": [
    {
     "name": "stdout",
     "output_type": "stream",
     "text": [
      "count    4847.000000\n",
      "mean        1.203425\n",
      "std         1.098664\n",
      "min         0.000000\n",
      "25%         0.000000\n",
      "50%         1.000000\n",
      "75%         2.000000\n",
      "max         6.000000\n",
      "Name: Члены семьи, dtype: float64\n"
     ]
    },
    {
     "data": {
      "image/png": "[encoded data removed]",
      "text/plain": [
       "<Figure size 2000x400 with 3 Axes>"
      ]
     },
     "metadata": {},
     "output_type": "display_data"
    }
   ],
   "source": [
    "grafik('Члены семьи')"
   ]
  },
  {
   "cell_type": "markdown",
   "metadata": {},
   "source": [
    "Да уж. По медиане \"ящика с усами\" можно судить только одно: подавляющее большинство клиентов с семьей с одним ребенком. Откуда тут расцвет демографии? "
   ]
  },
  {
   "cell_type": "code",
   "execution_count": 15,
   "metadata": {},
   "outputs": [
    {
     "name": "stdout",
     "output_type": "stream",
     "text": [
      "count    4847.000000\n",
      "mean        0.152259\n",
      "std         0.468934\n",
      "min         0.000000\n",
      "25%         0.000000\n",
      "50%         0.000000\n",
      "75%         0.000000\n",
      "max         5.000000\n",
      "Name: Страховые выплаты, dtype: float64\n"
     ]
    },
    {
     "data": {
      "image/png": "[encoded data removed]",
      "text/plain": [
       "<Figure size 2000x400 with 3 Axes>"
      ]
     },
     "metadata": {},
     "output_type": "display_data"
    }
   ],
   "source": [
    "grafik('Страховые выплаты')"
   ]
  },
  {
   "cell_type": "markdown",
   "metadata": {},
   "source": [
    "Доходность страховой компании вне опасности, основная доля страховщиков с нулевыми страховыми выплатами. "
   ]
  },
  {
   "cell_type": "markdown",
   "metadata": {},
   "source": [
    "## 5. Разработка алгоритма матричного шифрования данных"
   ]
  },
  {
   "cell_type": "markdown",
   "metadata": {},
   "source": [
    "В этом задании мы немного окунемся в тему линейной алгебры. А точнее вспомним, что такое матрицы, как они работают и для чего нам понадобятся матричные вычисления в данном проекте.<br>\n",
    "\n",
    "Матрица (лат. matrix, «основа») — это прямоугольная числовая таблица, или двумерный массив. Состоит из m строк и n столбцов (размер записывается так: 𝑚×𝑛). Базой практически всех алгоритмов машинного обучения являются фундаментальные математические знания, в частности линейная алгебра.<br>\n",
    "\n",
    "Для того, чтобы зашифровать персональные данные, а затем с лёгкостью при необходимости их расшифровать потребуется использование простой математической модели линейной регрессии. Она работает с векторами, вычисляет расстояния между ними и матрицами."
   ]
  },
  {
   "cell_type": "markdown",
   "metadata": {},
   "source": [
    "Вспомним несколько видов матриц и некоторые операции с ними:<br>\n",
    "$A^T$. Транспонированная матрица - матрица, в которой заменены строки соответствующими столбцами.<br>\n",
    "$Е$. Единичная матрица - матрица, диагональная матрица, элементы главной диагонали которой равны единице.<br>\n",
    "\n",
    "Свойства операции сложения матриц:<br>\n",
    "$A+B=B+C$.<br>\n",
    "$A+(В+С)=(А+В)+С$.<br>\n",
    "$А+О=А$.<br>\n",
    "\n",
    "Свойства операции умножения матриц:<br>\n",
    "$A * B ≠ B * A$.<br>\n",
    "$A * E = E * A$.<br>\n",
    "\n",
    "Обратная для квадратной матрицы A — матрица A с верхним индексом -1 ($A^{-1}$), произведение которой на А равно единичной матрице $Е$. Умножение может быть в любом порядке:<br>\n",
    "\n",
    "$A * A^{-1} = A^{-1} * A = E$"
   ]
  },
  {
   "cell_type": "markdown",
   "metadata": {},
   "source": [
    "\n",
    "Вы научитесь работать с векторами, расстояниями между ними и матрицами. Узнаете, как устроены метод ближайших соседей и линейная регрессия."
   ]
  },
  {
   "cell_type": "markdown",
   "metadata": {},
   "source": [
    "### 5.1. Модель линейной регрессии изнутри"
   ]
  },
  {
   "cell_type": "markdown",
   "metadata": {},
   "source": [
    "Как модель линейной регрессии делает предсказания? Посмотрим, что у неё внутри.<br>\n",
    "\n",
    "У линейной регрессии признаки — это вектор чисел в $n$-мерном пространстве (допустим, $x$).<br>\n",
    "Предсказание модели $a$ вычисляется так: скалярно умножается вектор признаков на вектор весов $w$ (от англ. weights), затем к этому произведению прибавляется величина сдвига предсказания $w_{0}$:<br>\n",
    "$$\n",
    "a = (x, w) + w_{0}\n",
    "$$\n",
    "<br>\n",
    "Вектор $w$ и скаляр $w_{0}$ — это параметры модели. В векторе $w$ параметров $n$, а в $w_{0}$ — один. То есть количество параметров больше длины вектора признаков на единицу. Если длина вектора признаков равна единице, то в выборке всего один признак.<br>\n",
    "\n",
    "Графики предсказаний для линейной регрессии задаются уравнением:<br>\n",
    "$$\n",
    "y = wx + w_{0}.\n",
    "$$\n",
    "\n",
    "Таким образом, если менять параметры $w$ и $w_{0}$, то получится любая прямая, или линия (отсюда и название модели)."
   ]
  },
  {
   "cell_type": "markdown",
   "metadata": {},
   "source": [
    "#### 5.1.1. Задача обучения"
   ]
  },
  {
   "cell_type": "markdown",
   "metadata": {},
   "source": [
    "Введем обозначения:\n",
    "\n",
    "- $X$ — матрица признаков (нулевой столбец состоит из единиц)\n",
    "\n",
    "- $y$ — вектор целевого признака\n",
    "\n",
    "- $P$ — матрица, на которую умножаются признаки\n",
    "\n",
    "- $w$ — вектор весов линейной регрессии (нулевой элемент равен сдвигу)"
   ]
  },
  {
   "cell_type": "markdown",
   "metadata": {},
   "source": [
    "Разберём алгоритм обучения. Но прежде сформулируем его задачу.<br>\n",
    "\n",
    "Нашей метрикой качества будет MSE: её наименьшее значение модель должна получить на тестовых данных. Задачу обучения сформулируем такую: найти параметры модели, при которых значение функции потерь на обучающей выборке минимально. Как метрики качества, она принимает на вход правильные ответы и предсказания. А возвращает число, которое называют «потерями» (их-то и нужно минимизировать). В нашей задаче эта функция приравнивается к MSЕ. Но обычно функция потерь применяется для обучения, а метрика качества — для тестирования.<br>\n",
    "\n",
    "Задачу обучения запишем в векторном виде. Обучающую выборку представим как матрицу $X$, в которой строки соответствуют объектам, а столбцы — признакам. Параметры линейной регрессии обозначим $w$ и $w_{0}$.<br>\n",
    "\n",
    "Чтобы получить вектор предсказаний $a$, умножим матрицу $X$ на вектор $w$ и прибавим величину сдвига $w_{0}$.<br>\n",
    "\n",
    "Формула выглядит так:<br>\n",
    "$$\n",
    "a = Xw + w_{0}\n",
    "$$"
   ]
  },
  {
   "cell_type": "markdown",
   "metadata": {},
   "source": [
    "#### 5.1.2. Обучение линейной регрессии"
   ]
  },
  {
   "cell_type": "markdown",
   "metadata": {},
   "source": [
    "Чтобы минимизировать функцию потерь, обратимся к специальной формуле.<br>\n",
    "Запишем формулой задачу обучения линейной регрессии для функции потерь MSE:<br>\n",
    "\n",
    "$$\n",
    "y = \\arg\\min_w MSE  (Xw + w_{0}, y)\n",
    "$$"
   ]
  },
  {
   "cell_type": "markdown",
   "metadata": {},
   "source": [
    "Минимальное значение MSE получается, когда веса равны этой величине:<br>\n",
    "<br>\n",
    "$$\n",
    "w = (X^T X)^{-1} X^T y\n",
    "$$"
   ]
  },
  {
   "cell_type": "markdown",
   "metadata": {},
   "source": [
    "### 5.2. Умножение матриц"
   ]
  },
  {
   "cell_type": "markdown",
   "metadata": {},
   "source": [
    "Для шифрования данных необходимо признаки умножить на обратимую матрицу.<br> \n",
    "Изменится ли при этом качество линейной регрессии? Нет, не изменится! Ниже приведем обоснование этому утверждению."
   ]
  },
  {
   "cell_type": "markdown",
   "metadata": {},
   "source": [
    "**Обоснование:**\n",
    "\n",
    "Примем за обратимую матрицу некую квадратную матрицу $P$ с размерностью, равной кол-ву столбцов матрицы признаков $X$. <br>\n",
    "<br>\n",
    "Тогда произведение матрицы признаков $X$ на обратимую матрицу $P$ можно будет представить в виде формулы обучения:\n",
    "\n",
    "$$\n",
    "w_{P} = ((XP)^TXP)^{-1}(XP)^Ty\n",
    "$$\n",
    "\n",
    "Требуется доказать, что предсказания $a$ и $a_{P}$ равны:\n",
    "\n",
    "$$\n",
    "a = Xw = XPw_{P} = a_{P}\n",
    "$$\n",
    "\n",
    "В линейной алгере для матриц верны следующие правила транспонирования и раскрытия скобок:\n",
    "\n",
    "$$(A_{ij}B_{ij})^T = B_{ij}^TA_{ij}^T;$$\n",
    "\n",
    "$$(A_{ij}B_{ij})^{-1} = B_{ij}^{-1}A_{ij}^{-1}$$.\n",
    "\n",
    "Также воспользуемся свойствами ассоциативности матриц:\n",
    "\n",
    "$$(A_{ij}B_{ij})C_{ij} = A_{ij}(B_{ij}C_{ij})$$.\n",
    "\n",
    "Имеем изначальное выражение:\n",
    "\n",
    "$$\n",
    "a_{P} = XPw_{P} = XP((XP)^TXP)^{-1}(XP)^Ty\n",
    "$$\n",
    "\n",
    "Раскрываем скобки по правилам раскрытия:\n",
    "\n",
    "$$\n",
    "a_{P} = XP((P^T)(X^TXP))^{-1}P^TX^Ty = XP((X^TX)(P))^{-1}(P^T)^{-1}P^TX^Ty = XPP^{-1}(X^TX)^{-1}(P^T)^{-1}P^TX^Ty\n",
    "$$"
   ]
  },
  {
   "cell_type": "markdown",
   "metadata": {},
   "source": [
    "Далее по правилам ассоциативности и, воспользовавшись формулами $AA^{-1} = A^{-1}A = E$ (где $E$ - единичная матрица) и $AE = EA = A$, произведение матриц $P(P)^{-1}$ и $(P^T)^{-1}P^T$ в выражении $XPP^{-1}(X^TX)^{-1}(P^T)^{-1}P^TX^Ty$ примем за значения единичной матрицы $E$ и получаем финальное выражение:\n",
    "\n",
    "$$\n",
    "a_{P} = XE(X^TX)^{-1}EX^Ty = X(X^TX)^{-1}X^Ty= Xw = a.\n",
    "$$"
   ]
  },
  {
   "cell_type": "markdown",
   "metadata": {},
   "source": [
    "<div style=\"border:solid gray 3px; padding: 20px\">\n",
    "<b> </b>\n",
    "\n",
    "**Вывод по разделу 3. Разработка алгоритма матричного шифрования данных.**\n",
    "Из доказательства п.3.3 следует, что умножая признаки X на любую созразмерную матрицу, предсказания всё равно будут равны между собой.\n",
    "\n",
    "$$\n",
    "a = Xw = XPw_{P} = a_{P}\n",
    "$$\n",
    "\n",
    "Поэтому, применив в алгоритме обучения метод умножения матрицы признаков $X$ на любую случайно соразмерно сгенерированную матрицу $P$ и получив некую новую матрицу $X_p$, проверим доказанное утверждение в деле. Получаться ли предсказания на матрице $X_p$ те же, что и в случае обучения по матрице признаков $X$?"
   ]
  },
  {
   "cell_type": "markdown",
   "metadata": {},
   "source": [
    "## 6. Проверка алгоритма шифрования данных"
   ]
  },
  {
   "cell_type": "markdown",
   "metadata": {},
   "source": [
    "План проведения работ:\n",
    "\n",
    " - Проведем процедуру разделения исследуемого датасета insurance.csv на две таблицы признаков и целей. За признаки features примем таблицу $X$, за цели target примем таблицу $y$.\n",
    " - Исходя из утверждения раздела 3, создадим случайную матрицу $P$ с размерностью, соответствующей количеству столбцов (признаков в выборке).\n",
    " - Умножим полученную матрицу $P$ на исходную матрицу признаков $X$, чтобы получить новую матрицу признаков $X_p$.\n",
    " - Обучим модели на изначальной и новой выборках.\n",
    " - Сравним показатели метрики r2_score.\n",
    " - Проверим возможность восстановления первоначальных данных после шифрования."
   ]
  },
  {
   "cell_type": "markdown",
   "metadata": {},
   "source": [
    "### 6.1. Разделение датасета на признаки и цели"
   ]
  },
  {
   "cell_type": "code",
   "execution_count": 16,
   "metadata": {},
   "outputs": [
    {
     "name": "stdout",
     "output_type": "stream",
     "text": [
      "Получились 2 таблицы в следующей конфигурации:\n",
      "Размер таблицы признаков X: (4847, 4) \n",
      "Размер таблицы целей y: (4847,) \n"
     ]
    }
   ],
   "source": [
    "X = df.drop(['Страховые выплаты'], axis=1)\n",
    "y = df['Страховые выплаты']\n",
    "# Обратная матрица P\n",
    "print(\n",
    "    f'Получились 2 таблицы в следующей конфигурации:\\n'\n",
    "    'Размер таблицы признаков X:', X.shape, '\\n'\n",
    "    'Размер таблицы целей y:', y.shape,''\n",
    ")"
   ]
  },
  {
   "cell_type": "code",
   "execution_count": 17,
   "metadata": {},
   "outputs": [],
   "source": [
    "# Находим кол-во столбцов матрицы X и записываем в переменную\n",
    "X_sample = X.shape[1]"
   ]
  },
  {
   "cell_type": "markdown",
   "metadata": {},
   "source": [
    "### 6.2. Cоздание зашифрованной матрицы "
   ]
  },
  {
   "cell_type": "markdown",
   "metadata": {},
   "source": [
    "Определим переменную определителя матрицы, чтобы создать обратимую матрицу. Для этого необходимо найти такую квадратную матрицу размера $nxn$, чтобы детерминант матрицы не был равен нулю. "
   ]
  },
  {
   "cell_type": "code",
   "execution_count": 18,
   "metadata": {},
   "outputs": [
    {
     "name": "stdout",
     "output_type": "stream",
     "text": [
      "Исходная матрица X\n",
      "[[    1    41 49600     1]\n",
      " [    0    46 38000     1]\n",
      " [    0    29 21000     0]\n",
      " [    0    21 41700     2]]\n",
      "*****\n",
      "Случайная матрица шифрования P:\n",
      "[[ 0.90053726 -0.90856099 -0.29150379  0.0186822 ]\n",
      " [-0.90856099  3.79118828  0.89122252  1.04609729]\n",
      " [-0.29150379  0.89122252  0.87031881  0.31430551]\n",
      " [ 0.0186822   1.04609729  0.31430551  0.71237474]]\n"
     ]
    }
   ],
   "source": [
    "# Присваиваем переменной det значение 0.\n",
    "det = 0\n",
    "\n",
    "# Начнём формировать квадратную матрицу методом make_spd_matrix,\n",
    "# пока не сгененируется обратимая матрица, т.е. det станет отличным от 0.\n",
    "while det == 0:    \n",
    "    # генерируем случайные числа\n",
    "    r = np.random.randint(100)\n",
    "    # создаём случайную матрицу P методом make_spd_matrix\n",
    "    P = make_spd_matrix(n_dim = X_sample, random_state = r)\n",
    "    # Находим детерминант полученной матрицы P\n",
    "    det = np.linalg.det(P)\n",
    "    \n",
    "print('Исходная матрица X')\n",
    "print(X.head(4).values)\n",
    "print('*'*5)\n",
    "print('Случайная матрица шифрования P:')\n",
    "print(P)"
   ]
  },
  {
   "cell_type": "markdown",
   "metadata": {},
   "source": [
    "Найдём скалярное произведение исходной матрицы $X$ со сгенерированной матрицей шифрования $P$"
   ]
  },
  {
   "cell_type": "code",
   "execution_count": 21,
   "metadata": {},
   "outputs": [
    {
     "name": "stdout",
     "output_type": "stream",
     "text": [
      "Новая матрица, X_p = X * P\n",
      "\n",
      "[[-14494.9195946   44360.21335944  43204.37590918  15633.17432173]\n",
      " [-11118.9190127   34041.89660366  33113.42532769  11992.44221472]\n",
      " [ -6147.92778651  18825.61742735  18302.54046655   6630.75252293]\n",
      " ...\n",
      " [ -9900.11221986  30290.35946453  29522.26072596  10677.30347053]\n",
      " [ -9551.2055785   29228.61235068  28479.68340053  10302.96011054]\n",
      " [-11859.57422267  36289.92521156  35359.92072493  12790.8254706 ]]\n"
     ]
    }
   ],
   "source": [
    "X_p = X.values @ P\n",
    "\n",
    "print('Новая матрица, X_p = X * P')\n",
    "print()\n",
    "print(X_p)"
   ]
  },
  {
   "cell_type": "markdown",
   "metadata": {},
   "source": [
    "### 6.3. Cоздание модели обучения \"Линейная Регрессия\""
   ]
  },
  {
   "cell_type": "markdown",
   "metadata": {},
   "source": [
    "Создадим собственный класс, который будет вычислять линейную регрессию. То есть создадим модель обучения \"Линейная Регрессия\""
   ]
  },
  {
   "cell_type": "code",
   "execution_count": 22,
   "metadata": {},
   "outputs": [],
   "source": [
    "class LinearRegression_self:\n",
    "    def fit(self, train_features, train_target):\n",
    "        X = np.concatenate((np.ones((train_features.shape[0], 1)), train_features), axis=1)\n",
    "        y = train_target\n",
    "        w = np.linalg.inv(X.T.dot(X)).dot(X.T).dot(y)\n",
    "        self.w = w[1:]\n",
    "        self.w0 = w[0]\n",
    "\n",
    "    def predict_self(self, test_features):\n",
    "        return test_features.dot(self.w) + self.w0"
   ]
  },
  {
   "cell_type": "markdown",
   "metadata": {},
   "source": [
    "### 6.4. Обучение модели на матрицах признака"
   ]
  },
  {
   "cell_type": "markdown",
   "metadata": {},
   "source": [
    "Обучим модель линейной регресии на матрице признаков $X$ и на новой случайной матрице признаков, полученной по формуле:\n",
    "\n",
    "$$\n",
    "X_P = XP\n",
    "$$\n",
    "\n",
    "А затем сравним показатели $r^2 score$"
   ]
  },
  {
   "cell_type": "code",
   "execution_count": 23,
   "metadata": {},
   "outputs": [
    {
     "name": "stdout",
     "output_type": "stream",
     "text": [
      "Метрика предсказаний r2_score по матрице X:  0.4302010046633359\n",
      "Метрика предсказаний r2_score по матрице X_p:  0.4302010046594107\n",
      "Разница между показаниями метрик:  0.0\n",
      "Два массива по элементам в пределах допуска равны: True\n"
     ]
    }
   ],
   "source": [
    "# Обучение на матрице признаков X\n",
    "model = LinearRegression_self()\n",
    "model.fit(X, y)\n",
    "predictions_1 = model.predict_self(X)\n",
    "\n",
    "# Обучение на матрице признаков X_P\n",
    "model.fit(X_p, y)\n",
    "predictions_2 = model.predict_self(X_p)\n",
    "\n",
    "print('Метрика предсказаний r2_score по матрице X: ', r2_score(y, predictions_1))\n",
    "print('Метрика предсказаний r2_score по матрице X_p: ', r2_score(y, predictions_2))\n",
    "print('Разница между показаниями метрик: ', round(r2_score(y, predictions_1)-r2_score(y, predictions_2),2))\n",
    "print('Два массива по элементам в пределах допуска равны:', np.isclose(r2_score(y, predictions_1), r2_score(y, predictions_2)))"
   ]
  },
  {
   "cell_type": "markdown",
   "metadata": {},
   "source": [
    "Метод np.isclose возвращает булевый массив, в котором два массива по элементам равны в пределах допуска. Это значит, что метрики получились одинаковы."
   ]
  },
  {
   "cell_type": "markdown",
   "metadata": {},
   "source": [
    "### 6.5. Проверка предсказаний по модели LinearRegression библиотеки sklearn"
   ]
  },
  {
   "cell_type": "markdown",
   "metadata": {},
   "source": [
    "Проверим метрики  $r^2 score$ по встроенной в sklearn модели LinearRegression"
   ]
  },
  {
   "cell_type": "code",
   "execution_count": null,
   "metadata": {},
   "outputs": [],
   "source": [
    "# Обучение на матрице признаков X\n",
    "model_2 = LinearRegression()\n",
    "model_2.fit(X, y)\n",
    "predictions_1 = model_2.predict(X)\n",
    "\n",
    "# Обучение на матрице признаков X_P\n",
    "model_2.fit(X_p, y)\n",
    "predictions_2 = model_2.predict(X_p)\n",
    "\n",
    "print('Метрика предсказаний r2_score по матрице X: ', r2_score(y, predictions_1))\n",
    "print('Метрика предсказаний r2_score по матрице X_p: ', r2_score(y, predictions_2))\n",
    "print('Разница между показаниями метрик: ', round(r2_score(y, predictions_2)-r2_score(y, predictions_1),2))\n",
    "print('Два массива по элементам в пределах допуска равны:', np.isclose(r2_score(y, predictions_1), r2_score(y, predictions_2)))"
   ]
  },
  {
   "cell_type": "markdown",
   "metadata": {},
   "source": [
    "### 6.6. Проверка возможности восстановления первоначальных данных после шифрования."
   ]
  },
  {
   "cell_type": "markdown",
   "metadata": {},
   "source": [
    "Чтобы восстановить первоначальные данные и проверить метрику модели после шифрования, воспользуемся правилом матриц:\n",
    "\n",
    "$$\n",
    "AA^{-1} = A^{-1}A = E\n",
    "$$\n",
    "\n",
    "Поскольку мы зашифровали первоначальные данные обратимой матрицей $P$, то восстановить данные сможем произведением зашифрованной матрицы на обратную матрицу $P^{-1}$:\n",
    "\n",
    "$$\n",
    "X_PP^{-1} = XPP^{-1} = XE = X\n",
    "$$\n",
    "\n",
    "Чтобы найти обратную матрицу для обратимой матрицы P, вызовем функцию numpy.linalg.inv()."
   ]
  },
  {
   "cell_type": "code",
   "execution_count": null,
   "metadata": {},
   "outputs": [],
   "source": [
    "P_inv = np.linalg.inv(P)\n",
    "X_recovery = X_p @ P_inv\n",
    "\n",
    "# На матрице признаков X модель обучена ранее,\n",
    "# её предсказания находятся в predictions_1\n",
    "\n",
    "# Обучаем модель на матрице признаков X_first\n",
    "model_3 = LinearRegression()\n",
    "model_3.fit(X_recovery, y)\n",
    "predictions_3 = model_3.predict(X_recovery)\n",
    "\n",
    "print('Метрика предсказаний r2_score по матрице X: ', r2_score(y, predictions_1))\n",
    "print('Метрика предсказаний r2_score по матрице X_recovery: ', r2_score(y, predictions_3))\n",
    "print('Два массива по элементам в пределах допуска равны:', np.isclose(r2_score(y, predictions_1), r2_score(y, predictions_3)))"
   ]
  },
  {
   "cell_type": "markdown",
   "metadata": {},
   "source": [
    "## 7. Общий вывод"
   ]
  },
  {
   "cell_type": "markdown",
   "metadata": {},
   "source": [
    "<div style=\"border:solid gray 3px; padding: 20px\">\n",
    "<b> </b>\n",
    "\n",
    "Наша цель заключалась в разработке алгоритма машинного обучения, которая с помощью элементов линейной алгебры позволила достичь отлдичного результата шифрования персональных данных клиентов с возможностью их восстановления. Проведена проверка качества преобразования данных до и после, сверены результаты метрик и обоснована корректность работы модели.\n",
    "\n",
    "Основные этапы работы заключались:\n",
    " - Загрузка и подготовка данных;\n",
    " - Обработка аномалий и исследование данных;\n",
    " - Разработка алгоритма матричного шифрования данных;\n",
    " - Проведение процедуры разделения исследуемого датасета insurance на две таблицы признаков и целей;\n",
    " - Создание случайной матрицы с размерностью, соответствующей количеству столбцов (признаков в выборке);\n",
    " - Умножение полученной матрицу $P$ на исходную матрицу признаков $X$, чтобы получить новую матрицу признаков $X_p$;\n",
    " - Обучение моделей на первоначальной и новой выборках;\n",
    " - Сравнение показателей метрики $R2$ - коэффициента детерминации, используемой для оценки производительности модели линейной регрессии;\n",
    " - Проверка возможности восстановления первоначальных данных после шифрования.\n",
    "\n",
    "Модель LinearRegression в sklearn и модель линейной регрессии, написанная вручную, показали равные между собой результаты. Ранее выдвинутое утверждение, что предсказания $a = Xw = XPw_{P} = a_{P}$ верны полностью, доказаны как математически, так и с помощью алгоритмов Phuton.<br>\n",
    "    \n",
    "Воспользовавшись элементами линейной алгебры и свойств матриц, удалось восстановить первоначальные персональные данные с помощью обратной матрицы $P^{-1}$ с точностью 99,99%. Результат оказался убедительным, т.к. данные по метрике $r^2 score$ также полностью совпали. \n",
    "    \n",
    "Это значит, что шифрование данных имеет место быть в науке Data Scince, имеет логичный алгоритм шифровки и расшифровки, при условии наличия матрицы шифрования $P$."
   ]
  }
 ],
 "metadata": {
  "ExecuteTimeLog": [
   {
    "duration": 1253,
    "start_time": "2023-05-25T08:32:28.372Z"
   },
   {
    "duration": 66,
    "start_time": "2023-05-25T08:33:14.101Z"
   },
   {
    "duration": 77,
    "start_time": "2023-05-25T08:33:19.832Z"
   },
   {
    "duration": 51,
    "start_time": "2023-05-25T08:33:21.051Z"
   },
   {
    "duration": 27,
    "start_time": "2023-05-25T08:33:42.411Z"
   },
   {
    "duration": 14,
    "start_time": "2023-05-25T08:35:15.787Z"
   },
   {
    "duration": 4,
    "start_time": "2023-05-25T08:37:35.226Z"
   },
   {
    "duration": 159,
    "start_time": "2023-05-25T09:14:53.986Z"
   },
   {
    "duration": 4,
    "start_time": "2023-05-25T09:16:03.850Z"
   },
   {
    "duration": 17,
    "start_time": "2023-05-25T09:16:06.121Z"
   },
   {
    "duration": 5,
    "start_time": "2023-05-25T09:16:30.491Z"
   },
   {
    "duration": 4,
    "start_time": "2023-05-25T09:16:34.211Z"
   },
   {
    "duration": 19,
    "start_time": "2023-05-25T09:16:40.590Z"
   },
   {
    "duration": 12,
    "start_time": "2023-05-25T09:25:03.930Z"
   },
   {
    "duration": 3,
    "start_time": "2023-05-25T09:25:06.099Z"
   },
   {
    "duration": 86,
    "start_time": "2023-05-27T08:18:46.684Z"
   },
   {
    "duration": 11,
    "start_time": "2023-05-27T08:18:47.305Z"
   },
   {
    "duration": 8,
    "start_time": "2023-05-27T08:18:47.508Z"
   },
   {
    "duration": 9,
    "start_time": "2023-05-27T08:18:49.584Z"
   },
   {
    "duration": 10,
    "start_time": "2023-05-27T08:19:06.355Z"
   },
   {
    "duration": 1716,
    "start_time": "2023-05-27T08:20:55.122Z"
   },
   {
    "duration": 181,
    "start_time": "2023-05-27T08:20:57.459Z"
   },
   {
    "duration": 42,
    "start_time": "2023-05-27T08:20:58.216Z"
   },
   {
    "duration": 30,
    "start_time": "2023-05-27T08:20:58.594Z"
   },
   {
    "duration": 4,
    "start_time": "2023-05-27T08:21:00.004Z"
   },
   {
    "duration": 5,
    "start_time": "2023-05-27T08:21:59.003Z"
   },
   {
    "duration": 133,
    "start_time": "2023-05-27T08:21:59.514Z"
   },
   {
    "duration": 25,
    "start_time": "2023-05-27T08:22:12.299Z"
   },
   {
    "duration": 7,
    "start_time": "2023-05-27T08:22:13.919Z"
   },
   {
    "duration": 65,
    "start_time": "2023-05-27T08:22:15.431Z"
   },
   {
    "duration": 8,
    "start_time": "2023-05-27T08:28:57.382Z"
   },
   {
    "duration": 7,
    "start_time": "2023-05-27T08:29:16.717Z"
   },
   {
    "duration": 12,
    "start_time": "2023-05-27T08:34:35.492Z"
   },
   {
    "duration": 14,
    "start_time": "2023-05-27T08:35:01.692Z"
   },
   {
    "duration": 114,
    "start_time": "2023-05-27T08:35:12.701Z"
   },
   {
    "duration": 5,
    "start_time": "2023-05-27T08:44:15.805Z"
   },
   {
    "duration": 10,
    "start_time": "2023-05-27T08:47:42.678Z"
   },
   {
    "duration": 16,
    "start_time": "2023-05-27T08:47:48.555Z"
   },
   {
    "duration": 11,
    "start_time": "2023-05-27T08:48:09.380Z"
   },
   {
    "duration": 6,
    "start_time": "2023-05-27T08:48:14.612Z"
   },
   {
    "duration": 18,
    "start_time": "2023-05-27T08:48:17.853Z"
   },
   {
    "duration": 8,
    "start_time": "2023-05-27T08:48:21.880Z"
   },
   {
    "duration": 7,
    "start_time": "2023-05-27T08:48:26.432Z"
   },
   {
    "duration": 6,
    "start_time": "2023-05-27T08:49:24.481Z"
   },
   {
    "duration": 5,
    "start_time": "2023-05-27T08:49:25.123Z"
   },
   {
    "duration": 121,
    "start_time": "2023-05-27T08:53:26.751Z"
   },
   {
    "duration": 108,
    "start_time": "2023-05-27T09:14:01.016Z"
   },
   {
    "duration": 131,
    "start_time": "2023-05-27T09:14:15.116Z"
   },
   {
    "duration": 9,
    "start_time": "2023-05-27T09:14:21.500Z"
   },
   {
    "duration": 3,
    "start_time": "2023-05-27T09:15:16.606Z"
   },
   {
    "duration": 7,
    "start_time": "2023-05-27T09:15:53.734Z"
   },
   {
    "duration": 6,
    "start_time": "2023-05-27T09:29:05.706Z"
   },
   {
    "duration": 7,
    "start_time": "2023-05-27T09:42:48.308Z"
   },
   {
    "duration": 7,
    "start_time": "2023-05-27T09:50:01.310Z"
   },
   {
    "duration": 9,
    "start_time": "2023-05-27T09:50:02.744Z"
   },
   {
    "duration": 24,
    "start_time": "2023-05-27T09:50:24.679Z"
   },
   {
    "duration": 7,
    "start_time": "2023-05-27T09:52:37.201Z"
   },
   {
    "duration": 9,
    "start_time": "2023-05-27T09:53:39.218Z"
   },
   {
    "duration": 11,
    "start_time": "2023-05-27T09:54:11.847Z"
   },
   {
    "duration": 6,
    "start_time": "2023-05-27T09:55:16.813Z"
   },
   {
    "duration": 6,
    "start_time": "2023-05-27T09:56:12.804Z"
   },
   {
    "duration": 6,
    "start_time": "2023-05-27T09:56:27.210Z"
   },
   {
    "duration": 6,
    "start_time": "2023-05-27T09:59:41.786Z"
   },
   {
    "duration": 8,
    "start_time": "2023-05-27T10:05:58.026Z"
   },
   {
    "duration": 17,
    "start_time": "2023-05-27T10:08:52.381Z"
   },
   {
    "duration": 76,
    "start_time": "2023-05-27T10:10:03.783Z"
   },
   {
    "duration": 66,
    "start_time": "2023-05-27T10:12:59.294Z"
   },
   {
    "duration": 133,
    "start_time": "2023-05-27T10:18:51.853Z"
   },
   {
    "duration": 20,
    "start_time": "2023-05-27T10:20:08.098Z"
   },
   {
    "duration": 8,
    "start_time": "2023-05-27T10:20:08.805Z"
   },
   {
    "duration": 6,
    "start_time": "2023-05-27T10:20:09.534Z"
   },
   {
    "duration": 3,
    "start_time": "2023-05-27T10:20:13.427Z"
   },
   {
    "duration": 14,
    "start_time": "2023-05-27T10:20:16.028Z"
   },
   {
    "duration": 14,
    "start_time": "2023-05-27T10:20:23.001Z"
   },
   {
    "duration": 26,
    "start_time": "2023-05-27T10:20:56.837Z"
   },
   {
    "duration": 1239,
    "start_time": "2023-05-27T10:24:42.204Z"
   },
   {
    "duration": 58,
    "start_time": "2023-05-27T10:24:43.445Z"
   },
   {
    "duration": 34,
    "start_time": "2023-05-27T10:24:43.505Z"
   },
   {
    "duration": 16,
    "start_time": "2023-05-27T10:24:43.640Z"
   },
   {
    "duration": 5,
    "start_time": "2023-05-27T10:24:44.895Z"
   },
   {
    "duration": 6,
    "start_time": "2023-05-27T10:24:48.014Z"
   },
   {
    "duration": 7,
    "start_time": "2023-05-27T10:24:48.200Z"
   },
   {
    "duration": 5,
    "start_time": "2023-05-27T10:24:48.391Z"
   },
   {
    "duration": 5,
    "start_time": "2023-05-27T10:24:48.853Z"
   },
   {
    "duration": 51,
    "start_time": "2023-05-27T10:24:49.438Z"
   },
   {
    "duration": 18,
    "start_time": "2023-05-27T10:24:49.998Z"
   },
   {
    "duration": 4,
    "start_time": "2023-05-27T10:25:33.705Z"
   },
   {
    "duration": 4,
    "start_time": "2023-05-27T10:25:46.804Z"
   },
   {
    "duration": 21,
    "start_time": "2023-05-27T10:25:47.813Z"
   },
   {
    "duration": 18,
    "start_time": "2023-05-27T10:25:49.090Z"
   },
   {
    "duration": 1287,
    "start_time": "2023-05-27T10:44:12.212Z"
   },
   {
    "duration": 31,
    "start_time": "2023-05-27T10:44:14.608Z"
   },
   {
    "duration": 30,
    "start_time": "2023-05-27T10:44:15.200Z"
   },
   {
    "duration": 1006,
    "start_time": "2023-05-27T10:45:03.779Z"
   },
   {
    "duration": 49,
    "start_time": "2023-05-27T10:45:42.147Z"
   },
   {
    "duration": 72,
    "start_time": "2023-05-27T10:46:10.739Z"
   },
   {
    "duration": 36,
    "start_time": "2023-05-27T10:46:20.304Z"
   },
   {
    "duration": 34,
    "start_time": "2023-05-27T10:46:36.312Z"
   },
   {
    "duration": 43,
    "start_time": "2023-05-27T10:46:58.342Z"
   },
   {
    "duration": 29,
    "start_time": "2023-05-27T10:47:13.389Z"
   },
   {
    "duration": 30,
    "start_time": "2023-05-27T10:47:44.219Z"
   },
   {
    "duration": 1307,
    "start_time": "2023-05-27T10:50:01.139Z"
   },
   {
    "duration": 29,
    "start_time": "2023-05-27T10:50:04.676Z"
   },
   {
    "duration": 345,
    "start_time": "2023-05-27T10:50:06.901Z"
   },
   {
    "duration": 7,
    "start_time": "2023-05-27T10:50:23.724Z"
   },
   {
    "duration": 17,
    "start_time": "2023-05-27T10:50:28.075Z"
   },
   {
    "duration": 5,
    "start_time": "2023-05-27T10:56:47.403Z"
   },
   {
    "duration": 9,
    "start_time": "2023-05-27T10:57:18.041Z"
   },
   {
    "duration": 9,
    "start_time": "2023-05-27T10:58:10.791Z"
   },
   {
    "duration": 4,
    "start_time": "2023-05-27T10:58:23.589Z"
   },
   {
    "duration": 5,
    "start_time": "2023-05-27T10:58:32.291Z"
   },
   {
    "duration": 19,
    "start_time": "2023-05-27T10:58:35.901Z"
   },
   {
    "duration": 24,
    "start_time": "2023-05-27T10:58:42.442Z"
   },
   {
    "duration": 1298,
    "start_time": "2023-05-27T12:36:32.011Z"
   },
   {
    "duration": 29,
    "start_time": "2023-05-27T12:36:33.311Z"
   },
   {
    "duration": 351,
    "start_time": "2023-05-27T12:36:33.341Z"
   },
   {
    "duration": 6,
    "start_time": "2023-05-27T12:36:33.694Z"
   },
   {
    "duration": 16,
    "start_time": "2023-05-27T12:36:33.702Z"
   },
   {
    "duration": 7,
    "start_time": "2023-05-27T12:36:33.719Z"
   },
   {
    "duration": 32,
    "start_time": "2023-05-27T12:36:33.728Z"
   },
   {
    "duration": 4,
    "start_time": "2023-05-27T12:36:33.762Z"
   },
   {
    "duration": 5,
    "start_time": "2023-05-27T12:36:33.769Z"
   },
   {
    "duration": 77,
    "start_time": "2023-05-27T12:36:33.776Z"
   },
   {
    "duration": 105,
    "start_time": "2023-05-27T12:36:33.854Z"
   },
   {
    "duration": 1165,
    "start_time": "2023-05-28T02:39:13.351Z"
   },
   {
    "duration": 116,
    "start_time": "2023-05-28T02:39:14.518Z"
   },
   {
    "duration": 494,
    "start_time": "2023-05-28T02:39:14.636Z"
   },
   {
    "duration": 4,
    "start_time": "2023-05-28T02:39:15.132Z"
   },
   {
    "duration": 20,
    "start_time": "2023-05-28T02:39:15.138Z"
   },
   {
    "duration": 6,
    "start_time": "2023-05-28T02:39:17.670Z"
   },
   {
    "duration": 11,
    "start_time": "2023-05-28T02:39:17.849Z"
   },
   {
    "duration": 5,
    "start_time": "2023-05-28T02:39:18.254Z"
   },
   {
    "duration": 4,
    "start_time": "2023-05-28T02:39:18.764Z"
   },
   {
    "duration": 68,
    "start_time": "2023-05-28T02:39:19.395Z"
   },
   {
    "duration": 34,
    "start_time": "2023-05-28T02:39:20.826Z"
   },
   {
    "duration": 108,
    "start_time": "2023-05-28T02:39:23.039Z"
   },
   {
    "duration": 13,
    "start_time": "2023-05-28T02:40:07.155Z"
   },
   {
    "duration": 100,
    "start_time": "2023-05-28T02:40:29.761Z"
   },
   {
    "duration": 12,
    "start_time": "2023-05-28T02:41:00.009Z"
   },
   {
    "duration": 12,
    "start_time": "2023-05-28T02:41:13.362Z"
   },
   {
    "duration": 10,
    "start_time": "2023-05-28T02:51:38.974Z"
   },
   {
    "duration": 1574,
    "start_time": "2023-05-29T07:46:58.416Z"
   },
   {
    "duration": 29,
    "start_time": "2023-05-29T07:46:59.994Z"
   },
   {
    "duration": 445,
    "start_time": "2023-05-29T07:47:00.031Z"
   },
   {
    "duration": 9,
    "start_time": "2023-05-29T07:47:00.478Z"
   },
   {
    "duration": 95,
    "start_time": "2023-05-29T07:47:00.489Z"
   },
   {
    "duration": 98,
    "start_time": "2023-05-29T07:47:00.586Z"
   },
   {
    "duration": 94,
    "start_time": "2023-05-29T07:47:00.686Z"
   },
   {
    "duration": 38,
    "start_time": "2023-05-29T07:47:00.782Z"
   },
   {
    "duration": 151,
    "start_time": "2023-05-29T07:47:00.823Z"
   },
   {
    "duration": 288,
    "start_time": "2023-05-29T07:47:00.976Z"
   },
   {
    "duration": 166,
    "start_time": "2023-05-29T07:47:01.266Z"
   },
   {
    "duration": 121,
    "start_time": "2023-05-29T07:47:01.450Z"
   }
  ],
  "kernelspec": {
   "display_name": "Python 3 (ipykernel)",
   "language": "python",
   "name": "python3"
  },
  "language_info": {
   "codemirror_mode": {
    "name": "ipython",
    "version": 3
   },
   "file_extension": ".py",
   "mimetype": "text/x-python",
   "name": "python",
   "nbconvert_exporter": "python",
   "pygments_lexer": "ipython3",
   "version": "3.9.18"
  },
  "toc": {
   "base_numbering": 1,
   "nav_menu": {},
   "number_sections": true,
   "sideBar": true,
   "skip_h1_title": true,
   "title_cell": "Содержание",
   "title_sidebar": "Contents",
   "toc_cell": true,
   "toc_position": {},
   "toc_section_display": true,
   "toc_window_display": false
  }
 },
 "nbformat": 4,
 "nbformat_minor": 2
}
